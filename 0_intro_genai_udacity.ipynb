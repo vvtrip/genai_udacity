{
  "nbformat": 4,
  "nbformat_minor": 0,
  "metadata": {
    "colab": {
      "provenance": []
    },
    "kernelspec": {
      "name": "python3",
      "display_name": "Python 3"
    },
    "language_info": {
      "name": "python"
    }
  },
  "cells": [
    {
      "cell_type": "markdown",
      "source": [
        "\n",
        "VAE - for images - encoder + decoder, squished encoding into latent space to make derivations later on\n",
        "\n",
        "Biases ensure that even when all the inputs are zero, there can still be a non-zero output.\n",
        "\n",
        "Hyperparameters: Hyperparameters, unlike parameters, are not learned from the data. They are more like settings or configurations for the learning process. They are set prior to the training process and remain constant during training. They are external to the model and are used to control the learning process."
      ],
      "metadata": {
        "id": "GWB0OKKWexvh"
      }
    },
    {
      "cell_type": "code",
      "execution_count": null,
      "metadata": {
        "id": "hHCBksgbeVk2"
      },
      "outputs": [],
      "source": []
    }
  ]
}